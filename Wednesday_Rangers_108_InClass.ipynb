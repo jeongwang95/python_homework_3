{
 "cells": [
  {
   "cell_type": "markdown",
   "metadata": {},
   "source": [
    "# Dictionaries, Sets, & Importing Modules"
   ]
  },
  {
   "cell_type": "markdown",
   "metadata": {},
   "source": [
    "## Tasks Today:\n",
    "\n",
    "1) Dictionary <br>\n",
    " &nbsp;&nbsp;&nbsp;&nbsp; a) Declaring (key, value) <br>\n",
    " &nbsp;&nbsp;&nbsp;&nbsp; b) Accessing Values <br>\n",
    " &nbsp;&nbsp;&nbsp;&nbsp; ------ Exercise #1 - Print the eye color of each person in a double nested dict <br>\n",
    " &nbsp;&nbsp;&nbsp;&nbsp; c) Adding New Pairs <br>\n",
    " &nbsp;&nbsp;&nbsp;&nbsp; d) Modifying Values <br>\n",
    " &nbsp;&nbsp;&nbsp;&nbsp; e) Removing Key, Value Pairs <br>\n",
    " &nbsp;&nbsp;&nbsp;&nbsp; f) Looping a Dictionary <br>\n",
    " &nbsp;&nbsp;&nbsp;&nbsp; g) Looping Only Keys <br>\n",
    " &nbsp;&nbsp;&nbsp;&nbsp; h) Looping Only Values <br>\n",
    " &nbsp;&nbsp;&nbsp;&nbsp; ------ Exercise #2 - Create a Function that Prints All Key Value Pairs within a print .format()  <br>\n",
    " &nbsp;&nbsp;&nbsp;&nbsp; i) sorted() <br>\n",
    " &nbsp;&nbsp;&nbsp;&nbsp; j) Lists with Dictionaries <br>\n",
    " &nbsp;&nbsp;&nbsp;&nbsp; k) Dictionaries with Lists <br>\n",
    " &nbsp;&nbsp;&nbsp;&nbsp; l) Dictionaries with Dictionaries <br>\n",
    " &nbsp;&nbsp;&nbsp;&nbsp; ------ Exercise #3 - Write a Function that asks someone's name and address, and then stores that into a dictionary, which prints all names and addresses after they're done putting information in...  <br>\n",
    "2) Dictionaries vs. Lists (over time)<br>\n",
    "3) Set <br>\n",
    " &nbsp;&nbsp;&nbsp;&nbsp; a) Declaring <br>\n",
    " &nbsp;&nbsp;&nbsp;&nbsp; b) .add() <br>\n",
    " &nbsp;&nbsp;&nbsp;&nbsp; c) .remove() <br>\n",
    " &nbsp;&nbsp;&nbsp;&nbsp; d) .union() <br>\n",
    " &nbsp;&nbsp;&nbsp;&nbsp; e) .intersection() <br>\n",
    " &nbsp;&nbsp;&nbsp;&nbsp; f) .difference() <br>\n",
    " &nbsp;&nbsp;&nbsp;&nbsp; g) Frozen Set <br>\n",
    "4) Modules <br>\n",
    " &nbsp;&nbsp;&nbsp;&nbsp; a) Importing Entire Modules <br>\n",
    " &nbsp;&nbsp;&nbsp;&nbsp; b) Importing Methods Only <br>\n",
    " &nbsp;&nbsp;&nbsp;&nbsp; c) Using the 'as' Keyword <br>\n",
    " &nbsp;&nbsp;&nbsp;&nbsp; d) Creating a Module <br>\n",
    "5) Exercises <br>\n",
    " &nbsp;&nbsp;&nbsp;&nbsp; a) Build a Shopping Cart <br>\n",
    " &nbsp;&nbsp;&nbsp;&nbsp; b) Create Your Own Module <br>"
   ]
  },
  {
   "cell_type": "markdown",
   "metadata": {},
   "source": [
    "## Whiteboard Exercise\n",
    "\n",
    "<p>Find even numbers</p>"
   ]
  },
  {
   "cell_type": "code",
   "execution_count": 1,
   "metadata": {},
   "outputs": [
    {
     "name": "stdout",
     "output_type": "stream",
     "text": [
      "[2, 10, 12]\n"
     ]
    }
   ],
   "source": [
    "def even_numbers(numbers):\n",
    "    return [number for number in numbers if number%2 == 0]\n",
    "\n",
    "print(even_numbers([2,7,10,11,12]))"
   ]
  },
  {
   "cell_type": "markdown",
   "metadata": {},
   "source": [
    "## Dictionary <br>\n",
    "<p>A collection of data with 'key:value' pairs. Dictionaries are ordered as of Python 3.6</p>"
   ]
  },
  {
   "cell_type": "markdown",
   "metadata": {},
   "source": [
    "##### Declaring (key, value)"
   ]
  },
  {
   "cell_type": "code",
   "execution_count": 2,
   "metadata": {},
   "outputs": [
    {
     "name": "stdout",
     "output_type": "stream",
     "text": [
      "{'Tom': '255 main st', 'Jerry': '256 main st', 0: 'This is a 0'}\n"
     ]
    }
   ],
   "source": [
    "# keys should be unique\n",
    "# can use numbers or strings as keys\n",
    "d1 = {}\n",
    "\n",
    "d2 = dict()\n",
    "\n",
    "d3 = {\n",
    "    'Tom': '255 main st',\n",
    "    'Jerry': '256 main st',\n",
    "    0: 'This is a 0'\n",
    "}\n",
    "\n",
    "print(d3)"
   ]
  },
  {
   "cell_type": "markdown",
   "metadata": {},
   "source": [
    "##### Accessing Values"
   ]
  },
  {
   "cell_type": "code",
   "execution_count": 3,
   "metadata": {},
   "outputs": [
    {
     "name": "stdout",
     "output_type": "stream",
     "text": [
      "255 main st\n",
      "256 main st\n"
     ]
    }
   ],
   "source": [
    "# dict[key]\n",
    "d3 = {\n",
    "    'Tom': '255 main st',\n",
    "    'Jerry': '256 main st',\n",
    "    0: 'This is a 0'\n",
    "}\n",
    "\n",
    "print(d3['Tom'])\n",
    "print(d3.get('Jerry'))"
   ]
  },
  {
   "cell_type": "markdown",
   "metadata": {},
   "source": [
    "## In-Class Exercise #1 - Print a formatted statement from the dictionary below <br>\n",
    "<p>The output should be '2018 Chevrolet Silverado'</p>"
   ]
  },
  {
   "cell_type": "code",
   "execution_count": 4,
   "metadata": {},
   "outputs": [
    {
     "name": "stdout",
     "output_type": "stream",
     "text": [
      "Your car is a 2018 Chevrolet Silverado.\n",
      "2018 Chevrolet Silverado\n"
     ]
    }
   ],
   "source": [
    "# use the dict below\n",
    "truck = {\n",
    "    \"year\": 2018,\n",
    "    'make': 'Chevrolet',\n",
    "    'model': 'Silverado'\n",
    "}\n",
    "\n",
    "print(f\"Your car is a {truck['year']} {truck['make']} {truck['model']}.\")\n",
    "\n",
    "print(truck['year'], truck['make'], truck['model'])\n"
   ]
  },
  {
   "cell_type": "markdown",
   "metadata": {},
   "source": [
    "##### Adding New Pairs"
   ]
  },
  {
   "cell_type": "code",
   "execution_count": 5,
   "metadata": {},
   "outputs": [
    {
     "name": "stdout",
     "output_type": "stream",
     "text": [
      "{'Tom': '255 main st', 'Jerry': '256 main st', 0: 'This is a 0', 'Spike': '257 main st', 'Tike': '257 main st'}\n"
     ]
    }
   ],
   "source": [
    "# dict[key] = value\n",
    "d3 = {\n",
    "    'Tom': '255 main st',\n",
    "    'Jerry': '256 main st',\n",
    "    0: 'This is a 0'\n",
    "}\n",
    "\n",
    "d3['Spike'] = '257 main st'\n",
    "d3['Tike'] = '257 main st'\n",
    "\n",
    "print(d3)"
   ]
  },
  {
   "cell_type": "markdown",
   "metadata": {},
   "source": [
    "##### Modifying Values"
   ]
  },
  {
   "cell_type": "code",
   "execution_count": 6,
   "metadata": {},
   "outputs": [
    {
     "name": "stdout",
     "output_type": "stream",
     "text": [
      "{'Tom': '254 main st', 'Jerry': '254 main st', 0: 'This is a 0', 'Spike': '257 main st', 'Tike': '258 main st'}\n"
     ]
    }
   ],
   "source": [
    "# dict[key] = value\n",
    "d3['Tike'] = '258 main st'\n",
    "d3['Tom'] = '254 main st'\n",
    "d3['Jerry'] = '254 main st'\n",
    "\n",
    "print(d3)"
   ]
  },
  {
   "cell_type": "markdown",
   "metadata": {},
   "source": [
    "##### Removing Key, Value Pairs"
   ]
  },
  {
   "cell_type": "code",
   "execution_count": 7,
   "metadata": {},
   "outputs": [
    {
     "name": "stdout",
     "output_type": "stream",
     "text": [
      "{'Tom': '254 main st', 'Jerry': '254 main st', 'Spike': '257 main st', 'Tike': '258 main st'}\n"
     ]
    }
   ],
   "source": [
    "# del dict[key]\n",
    "del d3[0]\n",
    "\n",
    "print(d3)\n"
   ]
  },
  {
   "cell_type": "markdown",
   "metadata": {},
   "source": [
    "##### Looping a Dictionary"
   ]
  },
  {
   "cell_type": "code",
   "execution_count": 8,
   "metadata": {},
   "outputs": [
    {
     "name": "stdout",
     "output_type": "stream",
     "text": [
      "Name: Tom\tAddress: 254 main st\n",
      "Name: Jerry\tAddress: 254 main st\n",
      "Name: Spike\tAddress: 257 main st\n",
      "Name: Tike\tAddress: 258 main st\n"
     ]
    }
   ],
   "source": [
    "# .items()\n",
    "# a, b, c = 1, 2, 3\n",
    "\n",
    "for name, addy in d3.items():\n",
    "    print(f\"Name: {name}\\tAddress: {addy}\")"
   ]
  },
  {
   "cell_type": "markdown",
   "metadata": {},
   "source": [
    "##### Looping Only Keys"
   ]
  },
  {
   "cell_type": "code",
   "execution_count": 9,
   "metadata": {},
   "outputs": [
    {
     "name": "stdout",
     "output_type": "stream",
     "text": [
      "Tom\n",
      "Jerry\n",
      "Spike\n",
      "Tike\n",
      "\n",
      "Tom\n",
      "Jerry\n",
      "Spike\n",
      "Tike\n"
     ]
    }
   ],
   "source": [
    "# .keys()\n",
    "for name in d3.keys():\n",
    "    print(name)\n",
    "\n",
    "print(\"\")\n",
    "    \n",
    "for name in d3:\n",
    "    print(name)"
   ]
  },
  {
   "cell_type": "markdown",
   "metadata": {},
   "source": [
    "##### Looping Only Values"
   ]
  },
  {
   "cell_type": "code",
   "execution_count": 10,
   "metadata": {
    "scrolled": true
   },
   "outputs": [
    {
     "name": "stdout",
     "output_type": "stream",
     "text": [
      "254 main st\n",
      "254 main st\n",
      "257 main st\n",
      "258 main st\n"
     ]
    }
   ],
   "source": [
    "# .values()\n",
    "for addy in d3.values():\n",
    "    print(addy)"
   ]
  },
  {
   "cell_type": "markdown",
   "metadata": {},
   "source": [
    "## In-Class Exercise #2 - Create a Function that Prints All Key Value Pairs within a print .format() <br>\n",
    "<p><b>Output should be:</b><br>\n",
    "Max has blue eyes<br>\n",
    "Lilly has brown eyes<br>\n",
    "Barney has blue eyes<br>\n",
    "etc.\n",
    "</p>"
   ]
  },
  {
   "cell_type": "code",
   "execution_count": 11,
   "metadata": {},
   "outputs": [
    {
     "name": "stdout",
     "output_type": "stream",
     "text": [
      "Max has blue eyes\n",
      "Lilly has brown eyes\n",
      "Barney has green eyes\n",
      "Ted has purple eyes\n",
      "Sasuke has sharingan eyes\n"
     ]
    }
   ],
   "source": [
    "# use the dict below\n",
    "people = {\n",
    "    'Max': 'blue',\n",
    "    'Lilly': 'brown',\n",
    "    'Barney': 'green',\n",
    "    'Ted': 'purple',\n",
    "    'Sasuke': 'sharingan'\n",
    "}   \n",
    "\n",
    "for name, color in people.items():\n",
    "    print(f\"{name} has {color} eyes\")"
   ]
  },
  {
   "cell_type": "markdown",
   "metadata": {},
   "source": [
    "##### sorted()"
   ]
  },
  {
   "cell_type": "code",
   "execution_count": 12,
   "metadata": {},
   "outputs": [
    {
     "name": "stdout",
     "output_type": "stream",
     "text": [
      "Values: ['blue', 'brown', 'green', 'purple', 'sharingan']\n",
      "Keys: ['Barney', 'Lilly', 'Max', 'Sasuke', 'Ted']\n",
      "Key, Value Pairs: [('Barney', 'green'), ('Lilly', 'brown'), ('Max', 'blue'), ('Sasuke', 'sharingan'), ('Ted', 'purple')]\n"
     ]
    }
   ],
   "source": [
    "# sorts variables in order\n",
    "# sorted(dict.values()) or dict.keys() or dict.items()\n",
    "people = {\n",
    "    'Max': 'blue',\n",
    "    'Lilly': 'brown',\n",
    "    'Barney': 'green',\n",
    "    'Ted': 'purple',\n",
    "    'Sasuke': 'sharingan'\n",
    "}   \n",
    "\n",
    "print(\"Values:\", sorted(people.values()))\n",
    "print(\"Keys:\", sorted(people.keys()))\n",
    "print(\"Key, Value Pairs:\", sorted(people.items()))"
   ]
  },
  {
   "cell_type": "markdown",
   "metadata": {},
   "source": [
    "##### List with Dictionaries"
   ]
  },
  {
   "cell_type": "code",
   "execution_count": 13,
   "metadata": {},
   "outputs": [
    {
     "name": "stdout",
     "output_type": "stream",
     "text": [
      "['Bee', 'Gaara', 'Nagato', {'leaf1': 'Naruto', 'leaf2': 'Sakura'}]\n",
      "Gaara\n",
      "{'leaf1': 'Naruto', 'leaf2': 'Sakura'}\n",
      "Sakura\n"
     ]
    }
   ],
   "source": [
    "shinobi = [\"Bee\", \"Gaara\", \"Nagato\", {\"leaf1\": \"Naruto\", \"leaf2\": \"Sakura\"}]\n",
    "\n",
    "print(shinobi)\n",
    "print(shinobi[1])\n",
    "print(shinobi[3])\n",
    "print(shinobi[3][\"leaf2\"])"
   ]
  },
  {
   "cell_type": "markdown",
   "metadata": {},
   "source": [
    "##### Dictionaries with Lists"
   ]
  },
  {
   "cell_type": "code",
   "execution_count": 14,
   "metadata": {},
   "outputs": [
    {
     "name": "stdout",
     "output_type": "stream",
     "text": [
      "65\n",
      "John\n",
      "Laura\n",
      "Bulbasaur\n"
     ]
    }
   ],
   "source": [
    "# be careful when using numbers as keys in dictionaries, don't confuse them with indexes\n",
    "random_data = {\n",
    "    \"list_1\": [54, 65, 90],\n",
    "    \"names\": ['John', 'Laura', 'Bulbasaur']\n",
    "}\n",
    "\n",
    "print(random_data[\"list_1\"][1])\n",
    "\n",
    "for name in random_data[\"names\"]:\n",
    "    print(name)"
   ]
  },
  {
   "cell_type": "markdown",
   "metadata": {},
   "source": [
    "##### Dictionaries with Dictionaries"
   ]
  },
  {
   "cell_type": "code",
   "execution_count": 15,
   "metadata": {},
   "outputs": [
    {
     "name": "stdout",
     "output_type": "stream",
     "text": [
      "{'Ryan': {'Mexican': ['Tacos', 'Tortas', 'Arroz'], 'Desserts': ['Cheesecake', 'Cupcakes', 'Pie', 'Cookies']}, 'James': {'Main Course': ['Meatloaf', 'Beef Stroganoff', 'Chicken Stuffing Broccoli Casserole'], 'Desserts': ['Crumb Nutty Pie', 'Moon Pie', 'Pink Salad']}, 'Nate': {'favorite_dinner': ['Hibachi', 'Mexican', 'Italian'], 'favorite_dessert': ['Pazooki', 'Red Velvet Cake', 'Pumpkin Pie']}, 'Tenzin': {'Indian': ['Dumplings', 'Naan', 'Tandoori'], 'Mexican': ['Nachos', 'Empanadas', 'Burrito']}, 'Dylan': {'Sushi': ['Fatty Tuna', 'Unagi', 'Crab Roll'], 'Soup': ['Miso', 'Potato', 'Wonton']}, 'Jeong': {'Japanese': ['Sushi', 'Katsu', 'Ramen'], 'Korean': ['KBBQ', 'Stew', 'Porridge', 'K-Chicken'], 'Deserts': ['Bouncy Cheesecake', 'Ice Cream']}, 'John': {'Japanese': ['Sushi', 'Takoyaki', 'Ramen'], 'American': ['Cheeseburger', 'Crabcake'], 'Desserts': ['Pie', 'Ice Cream']}, 'Mike': {'Indian': ['Curry', 'Tikka', 'Chana'], 'Desserts': ['Applepie', 'Pecanpie', 'Carrotcake']}, 'Sam': {'Meals': ['Pizza', \"Wendy's 4 for 4\", 'Pasta', 'Hoagies'], 'Veggies': ['cucumbers', 'avocados', 'tomatoes', 'carrots']}, 'Kayla': {'Asian': ['Ramen', 'Bulgogi', 'HotPot'], 'Desserts': ['Chocolate', 'WaterGateSalad', 'Icecream']}, 'Austin': {'Mexican': ['Ceviche', 'Shrimp Chimichanga'], 'Fast Food': ['Chipolte', 'Chic-Fil-a'], 'Japanese': ['Nigri', 'Sashimi(Eel)']}, 'Mohammad': {'Food': ['Pasta', 'Fried Chicken', 'Tacos'], 'Desserts': ['Chocolate Cake', 'Ice Cream']}, 'Alex': {'Hispanic': ['tacos', 'pupusas', 'tomales'], 'Desserts': ['cheesecake', 'ice cream', 'tarimasu'], 'Cajun': ['gumbo', 'poboy', 'jambalaya']}}\n"
     ]
    }
   ],
   "source": [
    "# to get values, must traverse through keys\n",
    "# to get values, must traverse through keys\n",
    "food_dict = {\n",
    "    \"Ryan\": {\n",
    "        \"Mexican\": [\"Tacos\", \"Tortas\", \"Arroz\"],\n",
    "        \"Desserts\": [\"Cheesecake\", \"Cupcakes\", \"Pie\", \"Cookies\"]\n",
    "    },\n",
    "    \"James\": {\n",
    "        \"Main Course\": [\"Meatloaf\", \"Beef Stroganoff\", \"Chicken Stuffing Broccoli Casserole\"],\n",
    "        \"Desserts\": [\"Crumb Nutty Pie\", \"Moon Pie\", \"Pink Salad\"]\n",
    "    },\n",
    "    \"Nate\": {\n",
    "        \"favorite_dinner\": ['Hibachi', 'Mexican', 'Italian'],\n",
    "        \"favorite_dessert\": ['Pazooki', 'Red Velvet Cake', \"Pumpkin Pie\" ]\n",
    "    },\n",
    "    \"Tenzin\": {\n",
    "        \"Indian\": [\"Dumplings\",\"Naan\",\"Tandoori\"],\n",
    "        \"Mexican\": [\"Nachos\", \"Empanadas\",\"Burrito\"]\n",
    "    },\n",
    "    \"Dylan\" : {\n",
    "        \"Sushi\" : [\"Fatty Tuna\", \"Unagi\", \"Crab Roll\"],\n",
    "        \"Soup\" : [\"Miso\", \"Potato\", \"Wonton\"] \n",
    "    },\n",
    "    \"Jeong\": {\n",
    "        \"Japanese\": [\"Sushi\", \"Katsu\", \"Ramen\"],\n",
    "        \"Korean\": [\"KBBQ\", \"Stew\", \"Porridge\", \"K-Chicken\"],\n",
    "        \"Deserts\": [\"Bouncy Cheesecake\", \"Ice Cream\"]\n",
    "    },\n",
    "    \"John\": {\n",
    "        \"Japanese\": [\"Sushi\", \"Takoyaki\", \"Ramen\"],\n",
    "        \"American\": [\"Cheeseburger\", \"Crabcake\"],\n",
    "        \"Desserts\": [\"Pie\", \"Ice Cream\"]\n",
    "    },\n",
    "    \"Mike\": {        \n",
    "        \"Indian\": [\"Curry\", \"Tikka\", \"Chana\"],\n",
    "        \"Desserts\":[\"Applepie\", \"Pecanpie\", \"Carrotcake\"]       \n",
    "        \n",
    "    },\n",
    "    \"Sam\": {\n",
    "        \"Meals\": [\"Pizza\", \"Wendy's 4 for 4\", \"Pasta\", \"Hoagies\"],\n",
    "        \"Veggies\": [\"cucumbers\", \"avocados\", \"tomatoes\", \"carrots\"]\n",
    "    },\n",
    "    \n",
    "    'Kayla':{\n",
    "        'Asian': ['Ramen', 'Bulgogi', 'HotPot'],\n",
    "        'Desserts': ['Chocolate', 'WaterGateSalad', 'Icecream']\n",
    "    }\n",
    "    ,\n",
    "    \"Austin\": {\n",
    "         \"Mexican\":[\"Ceviche\",\"Shrimp Chimichanga\"],\n",
    "         \"Fast Food\": [\"Chipolte\", \"Chic-Fil-a\"],\n",
    "         \"Japanese\": [\"Nigri\", \"Sashimi(Eel)\"]\n",
    "    },\n",
    "    \"Mohammad\": {\n",
    "        \"Food\":[\"Pasta\", \"Fried Chicken\" , \"Tacos\"],\n",
    "        \"Desserts\":[\"Chocolate Cake\" ,\"Ice Cream\"]\n",
    "    },\n",
    "    \"Alex\": {\n",
    "        \"Hispanic\" : ['tacos', 'pupusas', 'tomales'],\n",
    "        'Desserts': ['cheesecake','ice cream', 'tarimasu'],\n",
    "        'Cajun': ['gumbo','poboy','jambalaya']\n",
    "    }       \n",
    "\n",
    "}\n",
    "\n",
    "print(food_dict)\n"
   ]
  },
  {
   "cell_type": "code",
   "execution_count": 16,
   "metadata": {},
   "outputs": [
    {
     "name": "stdout",
     "output_type": "stream",
     "text": [
      "Ryan's favorite desserts are: Cheesecake, Cupcakes, Pie, Cookies, \n"
     ]
    }
   ],
   "source": [
    "# Print Ryan's Desserts\n",
    "dessert_string = \"Ryan's favorite desserts are: \"\n",
    "for dessert in food_dict[\"Ryan\"][\"Desserts\"]:\n",
    "    dessert_string += dessert + \", \"\n",
    "    \n",
    "print(dessert_string)"
   ]
  },
  {
   "cell_type": "code",
   "execution_count": 17,
   "metadata": {},
   "outputs": [
    {
     "name": "stdout",
     "output_type": "stream",
     "text": [
      "Mexican\n",
      "Desserts\n",
      "Main Course\n",
      "Desserts\n",
      "favorite_dinner\n",
      "favorite_dessert\n",
      "Indian\n",
      "Mexican\n",
      "Sushi\n",
      "Soup\n",
      "Japanese\n",
      "Korean\n",
      "Deserts\n",
      "Japanese\n",
      "American\n",
      "Desserts\n",
      "Indian\n",
      "Desserts\n",
      "Meals\n",
      "Veggies\n",
      "Asian\n",
      "Desserts\n",
      "Mexican\n",
      "Fast Food\n",
      "Japanese\n",
      "Food\n",
      "Desserts\n",
      "Hispanic\n",
      "Desserts\n",
      "Cajun\n"
     ]
    }
   ],
   "source": [
    "# Everyone's favorite cuisine\n",
    "for name in food_dict:\n",
    "    for cuisine in food_dict[name]:\n",
    "        print(cuisine)"
   ]
  },
  {
   "cell_type": "code",
   "execution_count": 18,
   "metadata": {},
   "outputs": [
    {
     "name": "stdout",
     "output_type": "stream",
     "text": [
      "\n",
      "Here are all foods listed\n",
      "\n",
      "\n",
      "Ryan's favorite foods are: \n",
      "Tacos\n",
      "Tortas\n",
      "Arroz\n",
      "Cheesecake\n",
      "Cupcakes\n",
      "Pie\n",
      "Cookies\n",
      "\n",
      "James's favorite foods are: \n",
      "Meatloaf\n",
      "Beef Stroganoff\n",
      "Chicken Stuffing Broccoli Casserole\n",
      "Crumb Nutty Pie\n",
      "Moon Pie\n",
      "Pink Salad\n",
      "\n",
      "Nate's favorite foods are: \n",
      "Hibachi\n",
      "Mexican\n",
      "Italian\n",
      "Pazooki\n",
      "Red Velvet Cake\n",
      "Pumpkin Pie\n",
      "\n",
      "Tenzin's favorite foods are: \n",
      "Dumplings\n",
      "Naan\n",
      "Tandoori\n",
      "Nachos\n",
      "Empanadas\n",
      "Burrito\n",
      "\n",
      "Dylan's favorite foods are: \n",
      "Fatty Tuna\n",
      "Unagi\n",
      "Crab Roll\n",
      "Miso\n",
      "Potato\n",
      "Wonton\n",
      "\n",
      "Jeong's favorite foods are: \n",
      "Sushi\n",
      "Katsu\n",
      "Ramen\n",
      "KBBQ\n",
      "Stew\n",
      "Porridge\n",
      "K-Chicken\n",
      "Bouncy Cheesecake\n",
      "Ice Cream\n",
      "\n",
      "John's favorite foods are: \n",
      "Sushi\n",
      "Takoyaki\n",
      "Ramen\n",
      "Cheeseburger\n",
      "Crabcake\n",
      "Pie\n",
      "Ice Cream\n",
      "\n",
      "Mike's favorite foods are: \n",
      "Curry\n",
      "Tikka\n",
      "Chana\n",
      "Applepie\n",
      "Pecanpie\n",
      "Carrotcake\n",
      "\n",
      "Sam's favorite foods are: \n",
      "Pizza\n",
      "Wendy's 4 for 4\n",
      "Pasta\n",
      "Hoagies\n",
      "cucumbers\n",
      "avocados\n",
      "tomatoes\n",
      "carrots\n",
      "\n",
      "Kayla's favorite foods are: \n",
      "Ramen\n",
      "Bulgogi\n",
      "HotPot\n",
      "Chocolate\n",
      "WaterGateSalad\n",
      "Icecream\n",
      "\n",
      "Austin's favorite foods are: \n",
      "Ceviche\n",
      "Shrimp Chimichanga\n",
      "Chipolte\n",
      "Chic-Fil-a\n",
      "Nigri\n",
      "Sashimi(Eel)\n",
      "\n",
      "Mohammad's favorite foods are: \n",
      "Pasta\n",
      "Fried Chicken\n",
      "Tacos\n",
      "Chocolate Cake\n",
      "Ice Cream\n",
      "\n",
      "Alex's favorite foods are: \n",
      "tacos\n",
      "pupusas\n",
      "tomales\n",
      "cheesecake\n",
      "ice cream\n",
      "tarimasu\n",
      "gumbo\n",
      "poboy\n",
      "jambalaya\n"
     ]
    }
   ],
   "source": [
    "# Print everyone's favorite foods\n",
    "print(\"\\nHere are all foods listed\\n\")\n",
    "for name in food_dict:\n",
    "    print(f\"\\n{name}'s favorite foods are: \")\n",
    "    for cuisine in food_dict[name]:\n",
    "        for food in food_dict[name][cuisine]:\n",
    "            print(food)"
   ]
  },
  {
   "cell_type": "markdown",
   "metadata": {},
   "source": [
    "## Dictionaries vs. Lists (over time) Example of RUNTIME\n",
    "### When inputting values in a Dictionary vs List"
   ]
  },
  {
   "cell_type": "code",
   "execution_count": 19,
   "metadata": {},
   "outputs": [],
   "source": [
    "import time\n",
    "\n",
    "# generate dictionary\n",
    "d = {}\n",
    "\n",
    "for i in range(10000000):\n",
    "    d[i] = \"Value: \" + str(i)\n",
    "    \n",
    "# generate list\n",
    "big_list = [x for x in range(10000000)]\n"
   ]
  },
  {
   "cell_type": "code",
   "execution_count": 20,
   "metadata": {},
   "outputs": [
    {
     "name": "stdout",
     "output_type": "stream",
     "text": [
      "Value: 9999999\n",
      "elapsed time for dictionary: 0.0022017955780029297\n",
      "9999999\n",
      "elapsed time for list: 0.8041632175445557\n",
      "9999999\n",
      "elapsed time for known position: 7.772445678710938e-05\n"
     ]
    }
   ],
   "source": [
    "# track the time for dictionary\n",
    "start_time = time.time()\n",
    "\n",
    "print(d[9999999])\n",
    "\n",
    "end_time = time.time() - start_time\n",
    "\n",
    "print(f\"elapsed time for dictionary: {end_time}\")\n",
    "\n",
    "# track the time for list\n",
    "\n",
    "start_time = time.time()\n",
    "\n",
    "for i in range(len(big_list)):\n",
    "    if i == 9999999:\n",
    "        print(i)\n",
    "        \n",
    "end_time = time.time() - start_time\n",
    "\n",
    "print(f\"elapsed time for list: {end_time}\")\n",
    "\n",
    "# track time for a known position in a list\n",
    "start_time = time.time()\n",
    "\n",
    "print(big_list[-1])\n",
    "\n",
    "end_time = time.time() - start_time\n",
    "\n",
    "print(f\"elapsed time for known position: {end_time}\")"
   ]
  },
  {
   "cell_type": "markdown",
   "metadata": {},
   "source": [
    "## Exercise #3 - Write a Function that asks someone's name and address, and then stores that into a dictionary, and continues to do so until they choose to 'quit'. Once they quit, the program should print all names and addresses. <br>\n",
    "<p>\n",
    "<b>Proper steps:</b><br>\n",
    "step 1: write a function that takes in information and stores it in a dictionary<br>\n",
    "step 2: define an empty dictionary to work with<br>\n",
    "step 3: create our loop, which asks the user for information until they quit<br>\n",
    "step 4: ask for the information, and store it into variables<br>\n",
    "step 5: check if the user types quit<br>\n",
    "step 5a: print out all information<br>\n",
    "step 5b: break out of the loop<br>\n",
    "step 6: if they didn't quit, add the information to the dictionary<br>\n",
    "step 7: invoke the function by calling it\n",
    "</p>"
   ]
  },
  {
   "cell_type": "code",
   "execution_count": 21,
   "metadata": {},
   "outputs": [
    {
     "name": "stdout",
     "output_type": "stream",
     "text": [
      "Enter a name or write 'quit' to quit: quit\n",
      "The address for tom is 1 main st.\n",
      "The address for jerry is 1 main st.\n",
      "The address for bob is 2 main st.\n"
     ]
    }
   ],
   "source": [
    "from IPython.display import clear_output\n",
    "\n",
    "# Step 1\n",
    "def storeInfo():\n",
    "    # Step 2\n",
    "    d = {}\n",
    "    \n",
    "    # Step 3\n",
    "    while True:\n",
    "        # Step 4\n",
    "        name = input(\"Enter a name or write 'quit' to quit: \")\n",
    "        if name.lower() != 'quit':\n",
    "            address = input(\"Enter an address or say 'quit' to quit: \")\n",
    "            clear_output()\n",
    "            \n",
    "        # Step 5\n",
    "        if name.lower() == 'quit' or address.lower() == 'quit':\n",
    "            # Step 5a\n",
    "            for k,v in d.items():\n",
    "                print(f\"The address for {k} is {v}.\")\n",
    "            break\n",
    "        \n",
    "        # Step 6\n",
    "        d[name] = address\n",
    "        \n",
    "# Step 7\n",
    "storeInfo()\n",
    "        "
   ]
  },
  {
   "cell_type": "markdown",
   "metadata": {},
   "source": [
    "## Set <br>\n",
    "<p>A Set is an unordered collection data type that is iterable (loop), mutable, and has no duplicate elements.<br>Major advantage is that it is highly optimized in checking if something is in the set, as opposed to checking if something is in a list.</p>"
   ]
  },
  {
   "cell_type": "markdown",
   "metadata": {},
   "source": [
    "##### Declaring"
   ]
  },
  {
   "cell_type": "code",
   "execution_count": 22,
   "metadata": {},
   "outputs": [
    {
     "name": "stdout",
     "output_type": "stream",
     "text": [
      "{8, 1, 4}\n",
      "3\n",
      "{1, 3, 5, 6, 7, 8, 9}\n"
     ]
    }
   ],
   "source": [
    "# set() or {}\n",
    "# no order {3, 2, 1} outputs as {1, 2, 3}\n",
    "\n",
    "nums = {4, 1, 8, 4}\n",
    "print(nums)\n",
    "print(len(nums))\n",
    "\n",
    "my_list = [1,1,1,1,1,1,3,5,6,6,6,6,7,7,8,9,9,9,9,9]\n",
    "\n",
    "my_set = set(my_list)\n",
    "print(my_set)"
   ]
  },
  {
   "cell_type": "markdown",
   "metadata": {},
   "source": [
    "##### .add()"
   ]
  },
  {
   "cell_type": "code",
   "execution_count": 23,
   "metadata": {},
   "outputs": [
    {
     "name": "stdout",
     "output_type": "stream",
     "text": [
      "{2, 4, 5, 7, 9}\n",
      "{2, 4, 5, 22, 7, 9}\n",
      "{2, 4, 5, 22, 7, 9}\n"
     ]
    }
   ],
   "source": [
    "# set.add()\n",
    "my_set = {2, 5, 4, 7, 9}\n",
    "print(my_set)\n",
    "my_set.add(22)\n",
    "print(my_set)\n",
    "my_set.add(2)\n",
    "print(my_set)"
   ]
  },
  {
   "cell_type": "markdown",
   "metadata": {},
   "source": [
    "##### .remove()"
   ]
  },
  {
   "cell_type": "code",
   "execution_count": 24,
   "metadata": {},
   "outputs": [
    {
     "name": "stdout",
     "output_type": "stream",
     "text": [
      "{2, 4, 5, 7, 9}\n",
      "{2, 4, 5, 7}\n"
     ]
    }
   ],
   "source": [
    "# removes by value\n",
    "# set.remove()\n",
    "# nums.remove(56)\n",
    "my_set = {2, 5, 4, 7, 9}\n",
    "print(my_set)\n",
    "my_set.remove(9)\n",
    "print(my_set)"
   ]
  },
  {
   "cell_type": "markdown",
   "metadata": {},
   "source": [
    "##### .union() "
   ]
  },
  {
   "cell_type": "code",
   "execution_count": 25,
   "metadata": {},
   "outputs": [
    {
     "name": "stdout",
     "output_type": "stream",
     "text": [
      "{1, 2, 3, 4, 5, 6}\n",
      "{1, 2, 3, 4, 5, 6}\n"
     ]
    }
   ],
   "source": [
    "# Returns a union of two sets, can also use '|' or set.union(set)\n",
    "# joins all numbers, gets rid of duplicates\n",
    "s1 = {1,2,3,4}\n",
    "s2 = {3,4,5,6}\n",
    "\n",
    "s3 = s2.union(s1)\n",
    "print(s3)\n",
    "\n",
    "s4 = s1 | s2\n",
    "print(s4)\n"
   ]
  },
  {
   "cell_type": "markdown",
   "metadata": {},
   "source": [
    "##### .intersection()"
   ]
  },
  {
   "cell_type": "code",
   "execution_count": 26,
   "metadata": {},
   "outputs": [
    {
     "name": "stdout",
     "output_type": "stream",
     "text": [
      "{3, 4}\n",
      "{3, 4}\n"
     ]
    }
   ],
   "source": [
    "# Returns an intersection of two sets, can also use '&'\n",
    "# only takes similar elements from both sets\n",
    "s1 = {1,2,3,4}\n",
    "s2 = {3,4,5,6}\n",
    "\n",
    "s3 = s2.intersection(s1)\n",
    "print(s3)\n",
    "\n",
    "s4 = s1 & s2\n",
    "print(s4)"
   ]
  },
  {
   "cell_type": "markdown",
   "metadata": {},
   "source": [
    "##### .difference()"
   ]
  },
  {
   "cell_type": "code",
   "execution_count": 27,
   "metadata": {},
   "outputs": [
    {
     "name": "stdout",
     "output_type": "stream",
     "text": [
      "{1, 2}\n",
      "{5, 6}\n"
     ]
    }
   ],
   "source": [
    "# Returns a set containing all the elements of invoking set that are not in the second set, can also use '-'\n",
    "# only takes values from the first set that are not in the second set\n",
    "# order matters\n",
    "s1 = {1,2,3,4}\n",
    "s2 = {3,4,5,6}\n",
    "\n",
    "s3 = s1 - s2\n",
    "print(s3)\n",
    "\n",
    "s4 = s2.difference(s1)\n",
    "print(s4)\n"
   ]
  },
  {
   "cell_type": "markdown",
   "metadata": {},
   "source": [
    "##### .clear()"
   ]
  },
  {
   "cell_type": "code",
   "execution_count": 28,
   "metadata": {},
   "outputs": [
    {
     "name": "stdout",
     "output_type": "stream",
     "text": [
      "{5, 6}\n",
      "set()\n"
     ]
    }
   ],
   "source": [
    "# Empties the whole set\n",
    "# set.clear()\n",
    "print(s4)\n",
    "s4.clear()\n",
    "print(s4)"
   ]
  },
  {
   "cell_type": "markdown",
   "metadata": {},
   "source": [
    "##### Frozenset <br>\n",
    "<p>Frozen sets are immutable objects that only support methods and operators that produce a result without affecting the frozen set or sets to which they are applied.</p><br><b>Unique & Immutable</b>"
   ]
  },
  {
   "cell_type": "code",
   "execution_count": 29,
   "metadata": {},
   "outputs": [
    {
     "name": "stdout",
     "output_type": "stream",
     "text": [
      "{2, 3, 4, 5, 'hello', 7, 'my dog is neat'}\n",
      "frozenset({2, 3, 4, 5, 'hello', 7, 'my dog is neat'})\n"
     ]
    }
   ],
   "source": [
    "# frozenset([])\n",
    "my_set = {2, 3, 4, 'hello', 7 , 'my dog is neat', 5}\n",
    "print(my_set)\n",
    "\n",
    "fro_set = frozenset(my_set)\n",
    "print(fro_set)"
   ]
  },
  {
   "cell_type": "markdown",
   "metadata": {},
   "source": [
    "## Modules"
   ]
  },
  {
   "cell_type": "markdown",
   "metadata": {},
   "source": [
    "##### Importing Entire Modules"
   ]
  },
  {
   "cell_type": "code",
   "execution_count": 30,
   "metadata": {},
   "outputs": [
    {
     "name": "stdout",
     "output_type": "stream",
     "text": [
      "3.141592653589793\n",
      "3\n",
      "4\n"
     ]
    }
   ],
   "source": [
    "# import \n",
    "# or \n",
    "# from 'xxx' import *\n",
    "import math\n",
    "\n",
    "print(math.pi)\n",
    "\n",
    "num = 5\n",
    "num2 = 2\n",
    "num3 = 5//2\n",
    "print(3)\n",
    "print(math.ceil(math.pi))"
   ]
  },
  {
   "cell_type": "markdown",
   "metadata": {},
   "source": [
    "##### Importing Methods Only"
   ]
  },
  {
   "cell_type": "code",
   "execution_count": 31,
   "metadata": {},
   "outputs": [
    {
     "name": "stdout",
     "output_type": "stream",
     "text": [
      "3\n",
      "3.141592653589793\n"
     ]
    }
   ],
   "source": [
    "# from 'xxx' import 'xxx'\n",
    "# from math import floor\n",
    "from math import floor, pi\n",
    "\n",
    "print(floor(pi))\n",
    "print(pi)"
   ]
  },
  {
   "cell_type": "markdown",
   "metadata": {},
   "source": [
    "##### Using the 'as' Keyword"
   ]
  },
  {
   "cell_type": "code",
   "execution_count": 32,
   "metadata": {},
   "outputs": [
    {
     "name": "stdout",
     "output_type": "stream",
     "text": [
      "3.141592653589793\n"
     ]
    }
   ],
   "source": [
    "# from 'xxx' import 'xxx' as 'xxx' or import 'xxx' as 'xxx'\n",
    "# from math import floor as f\n",
    "from math import floor as f, pi as p\n",
    "\n",
    "print(p)\n"
   ]
  },
  {
   "cell_type": "markdown",
   "metadata": {},
   "source": [
    "##### Creating a Module"
   ]
  },
  {
   "cell_type": "code",
   "execution_count": 36,
   "metadata": {},
   "outputs": [
    {
     "name": "stdout",
     "output_type": "stream",
     "text": [
      "Hello Mr/Ms Wang...we've been waiting for you!\n"
     ]
    }
   ],
   "source": [
    "from module import printName as pn\n",
    "\n",
    "pn(\"Wang\")"
   ]
  },
  {
   "cell_type": "markdown",
   "metadata": {},
   "source": [
    "# Exercises"
   ]
  },
  {
   "cell_type": "markdown",
   "metadata": {},
   "source": [
    "### 1) Build a Shopping Cart <br>\n",
    "<p><b>You can use either lists or dictionaries. The program should have the following capabilities:</b><br><br>\n",
    "1) Takes in input <br>\n",
    "2) Stores user input into a dictionary or list <br>\n",
    "3) The User can add or delete items <br>\n",
    "4) The User can see current shopping list <br>\n",
    "5) The program Loops until user 'quits' <br>\n",
    "6) Upon quiting the program, print out all items in the user's list <br>\n",
    "</p>"
   ]
  },
  {
   "cell_type": "code",
   "execution_count": null,
   "metadata": {},
   "outputs": [
    {
     "name": "stdout",
     "output_type": "stream",
     "text": [
      "\n",
      "Your current shopping list is:\n",
      "Item\t\tQty\t\tCost Per Item\t\tTotal Cost\n",
      "eggs\t\t2.0\t\t2.0\t\t\t4.0\n",
      "bread\t\t3.0\t\t1.5\t\t\t4.5\n",
      "snacks\t\t1.0\t\t1.5\t\t\t1.5\n",
      "\n",
      "\t\t\t\t     Grand Total Cost: $10.0\n",
      "\n",
      "Your budget is $10.0. You are right on budget!\n"
     ]
    }
   ],
   "source": [
    "from IPython.display import clear_output\n",
    "\n",
    "# Ask the user four bits of input: Do you want to : Show/Add/Delete or Quit?\n",
    "def shopping_cart():\n",
    "    cart = {}\n",
    "    budget = float(input(\"What is your budget for shopping today? $\"))\n",
    "    while True:\n",
    "        choice = input(\"Do you want to Show/Add/Delete or Quit? \")\n",
    "        if choice.lower() != 'quit':\n",
    "            if choice.lower() == 'show':\n",
    "                clear_output()\n",
    "                print(\"\\nYour current shopping list is:\")\n",
    "                print(\"Item\\t\\tQty\\t\\tCost Per Item\\t\\tTotal Cost\")\n",
    "                for item, data in cart.items():\n",
    "                    print(f\"{item}\\t\\t{data[0]}\\t\\t{data[1]}\\t\\t\\t{data[2]}\")\n",
    "                    \n",
    "                grand_cost = 0\n",
    "                for cost in cart.values():\n",
    "                    grand_cost += cost[-1]\n",
    "                print(f\"\\n\\t\\t\\t\\t     Grand Total Cost: ${grand_cost}\")\n",
    "                \n",
    "                cost_diff = budget - grand_cost\n",
    "                if cost_diff > 0:\n",
    "                    print(f\"\\nYour budget is ${budget}. You are currently ${cost_diff} under budget.\")\n",
    "                elif cost_diff < 0:\n",
    "                    print(f\"\\nYour budget is ${budget}. You are currently ${abs(cost_diff)} over budget.\")\n",
    "                else:\n",
    "                    print(f\"\\nYour budget is ${budget}. You are right on budget!\")\n",
    "            \n",
    "            elif choice.lower() == 'add':\n",
    "                clear_output()\n",
    "                new_item = input(\"What do you want to add to your list? \")\n",
    "                qty = float(input(\"What is the quantity of the item you want to buy? \" ))\n",
    "                price = float(input(\"How much cost? (Enter the price per item) $\"))\n",
    "                cart[new_item.lower()] = (qty,price,qty*price)\n",
    "                \n",
    "                \n",
    "            elif choice.lower() == 'delete':\n",
    "                clear_output()\n",
    "                delete_item = input(\"What do you want to remove from your shopping list? \")\n",
    "                del cart[delete_item.lower()]\n",
    "                \n",
    "            else:\n",
    "                clear_output()\n",
    "                print(\"Invalid input. Please try again.\")\n",
    "                \n",
    "        else:\n",
    "            break\n",
    "        \n",
    "                \n",
    "            \n",
    "shopping_cart()"
   ]
  },
  {
   "cell_type": "markdown",
   "metadata": {},
   "source": [
    "### 2) Create a Module in VS Code and Import It into jupyter notebook <br>\n",
    "<p><b>Module should have the following capabilities:</b><br><br>\n",
    "1) Has a function to calculate the square footage of a house <br>\n",
    "    <b>Reminder of Formula: Length X Width == Area<br>\n",
    "        <hr>\n",
    "2) Has a function to calculate the circumference of a circle <br><br>\n",
    "<b>Program in Jupyter Notebook should take in user input and use imported functions to calculate a circle's circumference or a houses square footage</b>\n",
    "</p>"
   ]
  },
  {
   "cell_type": "code",
   "execution_count": 35,
   "metadata": {},
   "outputs": [
    {
     "name": "stdout",
     "output_type": "stream",
     "text": [
      "50\n",
      "31.41592653589793\n"
     ]
    }
   ],
   "source": [
    "from module import area as a, circumference as c\n",
    "\n",
    "print(a(10,5))\n",
    "print(c(5))"
   ]
  }
 ],
 "metadata": {
  "kernelspec": {
   "display_name": "Python 3 (ipykernel)",
   "language": "python",
   "name": "python3"
  },
  "language_info": {
   "codemirror_mode": {
    "name": "ipython",
    "version": 3
   },
   "file_extension": ".py",
   "mimetype": "text/x-python",
   "name": "python",
   "nbconvert_exporter": "python",
   "pygments_lexer": "ipython3",
   "version": "3.9.13"
  }
 },
 "nbformat": 4,
 "nbformat_minor": 2
}
